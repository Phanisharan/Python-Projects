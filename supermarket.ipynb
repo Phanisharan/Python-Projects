{
 "cells": [
  {
   "cell_type": "code",
   "execution_count": 3,
   "metadata": {},
   "outputs": [
    {
     "data": {
      "text/plain": [
       "['apples',\n",
       " 'bananas',\n",
       " 'bread',\n",
       " 'milk',\n",
       " 'eggs',\n",
       " 'cheese',\n",
       " 'butter',\n",
       " 'chicken',\n",
       " 'rice',\n",
       " 'pasta',\n",
       " 'cereal',\n",
       " 'flour',\n",
       " 'sugar',\n",
       " 'salt',\n",
       " 'cooking',\n",
       " 'tomato sauce',\n",
       " 'canned',\n",
       " 'yogurt',\n",
       " 'coffee',\n",
       " 'tea',\n",
       " 'detergent',\n",
       " 'soap',\n",
       " 'shampoo',\n",
       " 'toothpaste',\n",
       " 'paper towels']"
      ]
     },
     "execution_count": 3,
     "metadata": {},
     "output_type": "execute_result"
    }
   ],
   "source": [
    "from datetime import datetime\n",
    "\n",
    "\n",
    "supermarket_items = [\n",
    "        \n",
    "    \"apples\", \"bananas\",\n",
    "    \"bread\", \"milk\", \"eggs\", \"cheese\",\n",
    "    \"butter\", \"chicken\", \"rice\", \"pasta\",\n",
    "    \"cereal\", \"flour\", \"sugar\", \"salt\",\n",
    "    \"cooking\", \"tomato sauce\", \"canned\", \"yogurt\",\n",
    "    \"coffee\", \"tea\", \"detergent\", \"soap\",\n",
    "    \"shampoo\", \"toothpaste\", \"paper towels\"\n",
    "] \n",
    "\n",
    "supermarket_items"
   ]
  },
  {
   "cell_type": "code",
   "execution_count": 2,
   "metadata": {},
   "outputs": [
    {
     "data": {
      "text/plain": [
       "{'apples': 30,\n",
       " 'bananas': 40,\n",
       " 'bread': 20,\n",
       " 'milk': 50,\n",
       " 'eggs': 60,\n",
       " 'cheese': 250,\n",
       " 'butter': 45,\n",
       " 'chicken': 200,\n",
       " 'rice': 50,\n",
       " 'pasta': 100,\n",
       " 'cereal': 150,\n",
       " 'flour': 40,\n",
       " 'sugar': 35,\n",
       " 'salt': 10,\n",
       " 'cooking oil': 120,\n",
       " 'tomato sauce': 60,\n",
       " 'canned beans': 80,\n",
       " 'yogurt': 30,\n",
       " 'coffee': 200,\n",
       " 'tea': 150,\n",
       " 'detergent': 90,\n",
       " 'soap': 25,\n",
       " 'shampoo': 150,\n",
       " 'toothpaste': 60,\n",
       " 'paper towels': 30}"
      ]
     },
     "execution_count": 2,
     "metadata": {},
     "output_type": "execute_result"
    }
   ],
   "source": [
    "supermarket_items_with_rates = {\n",
    "        \n",
    "                \"apples\": 30, \"bananas\": 40, \"bread\": 20,  \"milk\": 50,  \n",
    "                \"eggs\": 60,  \"cheese\": 250, \"butter\": 45,  \"chicken\": 200, \n",
    "                \"rice\": 50, \"pasta\": 100, \"cereal\": 150, \"flour\": 40, \n",
    "                \"sugar\": 35, \"salt\": 10, \"cooking oil\": 120, \"tomato sauce\": 60, \n",
    "                \"canned beans\": 80, \"yogurt\": 30, \"coffee\": 200,  \"tea\": 150, \n",
    "                \"detergent\": 90,  \"soap\": 25, \"shampoo\": 150,   \"toothpaste\": 60, \n",
    "                \"paper towels\": 30, \n",
    "\n",
    "            }\n",
    "\n",
    "supermarket_items_with_rates"
   ]
  },
  {
   "cell_type": "code",
   "execution_count": 4,
   "metadata": {},
   "outputs": [
    {
     "name": "stdout",
     "output_type": "stream",
     "text": [
      "Welcome phani to Super Mart\n",
      "Here are the list of items available : ['apples', 'bananas', 'bread', 'milk', 'eggs', 'cheese', 'butter', 'chicken', 'rice', 'pasta', 'cereal', 'flour', 'sugar', 'salt', 'cooking', 'tomato sauce', 'canned', 'yogurt', 'coffee', 'tea', 'detergent', 'soap', 'shampoo', 'toothpaste', 'paper towels'] in our Mart.\n",
      "You have entered the wrong number\n",
      "========================= Super Mart =========================\n",
      "                          Hyderabad\n",
      "Name :  phani                                Date :  2024-09-25 00:39:16.780740\n",
      "---------------------------------------------------------------------------\n",
      "Sno.       Items       Quantity       Actual price       price\n",
      "0          apples          2          30          60\n",
      "1          bread          2          20          40\n",
      "2          eggs          5          60          300\n",
      "3          rice          2          50          100\n",
      "---------------------------------------------------------------------------\n",
      "                                                   Total Amount :  Rs 500\n",
      "                                                   Gst Amount :  Rs 25.0\n",
      "---------------------------------------------------------------------------\n",
      "                                                   Final Amount :  Rs 525.0\n",
      "---------------------------------------------------------------------------\n",
      "                          Thank You For Visting!!!...\n",
      "---------------------------------------------------------------------------\n"
     ]
    }
   ],
   "source": [
    "class Supermarket:\n",
    "    \n",
    "        def __init__(self):\n",
    "            self.name = None\n",
    "            self.price = 0\n",
    "            self.prices = []\n",
    "            self.totalprice = 0\n",
    "            self.items_list = []\n",
    "            self.quantity_list = []\n",
    "            self.price_list = []\n",
    "            self.final_amount = 0\n",
    "            self.Gst = 0\n",
    "\n",
    "        def display(self):\n",
    "            self.name = input('Enter your name : ')\n",
    "            print(f'Welcome {self.name} to Super Mart')\n",
    "\n",
    "        def option1(self):\n",
    "            option = input('Press 1 for the list of items : ')\n",
    "            if option == '1':\n",
    "                print(f'Here are the list of items available : {supermarket_items} in our Mart.')\n",
    "\n",
    "        def order(self):\n",
    "            while True:\n",
    "\n",
    "                customer_input = input('If you wish to buy the products press 1, else press 2 : ')\n",
    "                if customer_input == '1':\n",
    "                    item1 = input('Enter the item from the list : ')\n",
    "                    item = item1.lower()\n",
    "                    if item in supermarket_items_with_rates:\n",
    "                        quantity = int(input('Enter the required quantity u would like to buy : '))\n",
    "                        self.price = quantity * (supermarket_items_with_rates[item])\n",
    "\n",
    "                        self.prices.append((item, quantity, self.price))\n",
    "\n",
    "                        self.totalprice += self.price\n",
    "\n",
    "                        self.items_list.append(item)\n",
    "                        self.quantity_list.append(quantity)\n",
    "                        self.price_list.append(self.price)\n",
    "\n",
    "                        self.Gst = (self.totalprice * 5) / 100\n",
    "                     \n",
    "                        self.final_amount = self.Gst + self.totalprice \n",
    "                    \n",
    "                    else:\n",
    "                        print('The item you have entered is not available in the above list of items')\n",
    "\n",
    "                elif customer_input == '2':\n",
    "                    break\n",
    "            \n",
    "                else:\n",
    "                    print('You have entered the wrong number')\n",
    "\n",
    "        def bill_generation(self):\n",
    "            coustmer_input1 = input('Can i bill the items? Yes or No : ')\n",
    "            coustmer_input = coustmer_input1.lower()\n",
    "            if coustmer_input == 'yes':\n",
    "                if self.final_amount != 0:\n",
    "                    print(25 * \"=\", \"Super Mart\", 25 * \"=\")\n",
    "                    print(25 * \" \", \"Hyderabad\")\n",
    "\n",
    "                    current_date = datetime.now()\n",
    "                    print(\"Name : \", self.name, 30 * \" \", \"Date : \", current_date)\n",
    "                    print(75 * \"-\")\n",
    "                    print(\"Sno.\", 5 * \" \", 'Items', 5 * \" \", 'Quantity', 5 * \" \", 'Actual price', 5 * \" \", 'price')\n",
    "                    for i in range(len(self.price_list)):\n",
    "                        p = self.items_list[i]\n",
    "                        Actual_price = supermarket_items_with_rates[p]\n",
    "                        print(i, 8 * ' ', self.items_list[i], 8 * ' ', self.quantity_list[i], 8 * \" \", Actual_price, 8 * \" \", self.price_list[i], )\n",
    "                    print(75 * \"-\")\n",
    "                    print(50 * \" \", 'Total Amount : ', 'Rs', self.totalprice)\n",
    "                    print(50 * \" \", \"Gst Amount : \", \"Rs\", self.Gst)\n",
    "                    print(75 * \"-\")\n",
    "                    print(50 * \" \", 'Final Amount : ', 'Rs', self.final_amount)\n",
    "                    print(75 * \"-\")\n",
    "                    print(25 * \" \", 'Thank You For Visting!!!...')\n",
    "                    print(75 * \"-\")\n",
    "\n",
    "\n",
    "market = Supermarket()\n",
    "market.display()\n",
    "market.option1()\n",
    "market.order()\n",
    "market.bill_generation()\n",
    "    "
   ]
  },
  {
   "cell_type": "code",
   "execution_count": null,
   "metadata": {},
   "outputs": [],
   "source": []
  },
  {
   "cell_type": "code",
   "execution_count": null,
   "metadata": {},
   "outputs": [],
   "source": []
  },
  {
   "cell_type": "code",
   "execution_count": null,
   "metadata": {},
   "outputs": [],
   "source": []
  },
  {
   "cell_type": "code",
   "execution_count": null,
   "metadata": {},
   "outputs": [],
   "source": []
  },
  {
   "cell_type": "code",
   "execution_count": null,
   "metadata": {},
   "outputs": [],
   "source": []
  },
  {
   "cell_type": "code",
   "execution_count": null,
   "metadata": {},
   "outputs": [],
   "source": []
  },
  {
   "cell_type": "code",
   "execution_count": null,
   "metadata": {},
   "outputs": [],
   "source": []
  }
 ],
 "metadata": {
  "kernelspec": {
   "display_name": "Python 3",
   "language": "python",
   "name": "python3"
  },
  "language_info": {
   "codemirror_mode": {
    "name": "ipython",
    "version": 3
   },
   "file_extension": ".py",
   "mimetype": "text/x-python",
   "name": "python",
   "nbconvert_exporter": "python",
   "pygments_lexer": "ipython3",
   "version": "3.9.4"
  }
 },
 "nbformat": 4,
 "nbformat_minor": 2
}
